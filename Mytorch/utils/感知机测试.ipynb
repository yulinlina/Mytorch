{
 "cells": [
  {
   "cell_type": "code",
   "execution_count": 1,
   "metadata": {},
   "outputs": [],
   "source": [
    "from ..torch.percetron import Percetron\n",
    "import numpy as np"
   ]
  },
  {
   "cell_type": "markdown",
   "metadata": {},
   "source": [
    "## 测试线性可分的模型"
   ]
  },
  {
   "cell_type": "code",
   "execution_count": 2,
   "metadata": {},
   "outputs": [
    {
     "name": "stdout",
     "output_type": "stream",
     "text": [
      "True\n",
      "x: [0 0] y 1 pre_y 1.0\n",
      "x: [0 1] y 1 pre_y 1.0\n",
      "x: [1 0] y -1 pre_y -1.0\n",
      "x: [1 1] y -1 pre_y -1.0\n"
     ]
    }
   ],
   "source": [
    "# 准备数据集\n",
    "train_x = np.array([[0, 0], [0, 1], [1, 0], [1, 1]])\n",
    "train_y = np.array([1, 1, -1, -1])\n",
    "\n",
    "# 准备分类器\n",
    "f = Percetron()\n",
    "suc, w, b = f.train(train_x, train_y)\n",
    "print(suc)\n",
    "for id in range(len(train_x)):\n",
    "    x = train_x[id]\n",
    "    y = train_y[id]\n",
    "    pre_y = np.sign(w.dot(x)+b)\n",
    "    print(\"x:\", x, \"y\", y, \"pre_y\", pre_y)"
   ]
  },
  {
   "cell_type": "markdown",
   "metadata": {},
   "source": [
    "## 测试线性不可分模型"
   ]
  },
  {
   "cell_type": "code",
   "execution_count": 7,
   "metadata": {},
   "outputs": [
    {
     "name": "stdout",
     "output_type": "stream",
     "text": [
      "False\n",
      "x: [0 0] y 1 pre_y 0.0\n",
      "x: [0 1] y -1 pre_y 0.0\n",
      "x: [1 0] y -1 pre_y 0.0\n",
      "x: [1 1] y 1 pre_y 0.0\n"
     ]
    }
   ],
   "source": [
    "# 准备数据集\n",
    "train_x = np.array([[0, 0], [0, 1], [1, 0], [1, 1]])\n",
    "train_y = np.array([1, -1, -1, 1])\n",
    "\n",
    "# 准备分类器\n",
    "f = Percetron()\n",
    "suc, w, b = f.train(train_x, train_y)\n",
    "print(suc)\n",
    "for id in range(len(train_x)):\n",
    "    x = train_x[id]\n",
    "    y = train_y[id]\n",
    "    pre_y = np.sign(w.dot(x)+b)\n",
    "    print(\"x:\", x, \"y\", y, \"pre_y\", pre_y)"
   ]
  },
  {
   "cell_type": "code",
   "execution_count": null,
   "metadata": {},
   "outputs": [],
   "source": []
  }
 ],
 "metadata": {
  "kernelspec": {
   "display_name": "Python 3.8.8 ('base')",
   "language": "python",
   "name": "python3"
  },
  "language_info": {
   "codemirror_mode": {
    "name": "ipython",
    "version": 3
   },
   "file_extension": ".py",
   "mimetype": "text/x-python",
   "name": "python",
   "nbconvert_exporter": "python",
   "pygments_lexer": "ipython3",
   "version": "3.8.8"
  },
  "orig_nbformat": 4,
  "vscode": {
   "interpreter": {
    "hash": "b09ec625f77bf4fd762565a912b97636504ad6ec901eb2d0f4cf5a7de23e1ee5"
   }
  }
 },
 "nbformat": 4,
 "nbformat_minor": 2
}
